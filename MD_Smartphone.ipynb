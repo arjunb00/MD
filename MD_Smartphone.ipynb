{
  "nbformat": 4,
  "nbformat_minor": 0,
  "metadata": {
    "colab": {
      "name": "MD Smartphone.ipynb",
      "provenance": [],
      "collapsed_sections": [],
      "authorship_tag": "ABX9TyOlPbr5q8NHQ2/kiVKDV7Ef",
      "include_colab_link": true
    },
    "kernelspec": {
      "name": "python3",
      "display_name": "Python 3"
    },
    "language_info": {
      "name": "python"
    },
    "accelerator": "GPU"
  },
  "cells": [
    {
      "cell_type": "markdown",
      "metadata": {
        "id": "view-in-github",
        "colab_type": "text"
      },
      "source": [
        "<a href=\"https://colab.research.google.com/github/arjunb00/MD/blob/main/MD_Smartphone.ipynb\" target=\"_parent\"><img src=\"https://colab.research.google.com/assets/colab-badge.svg\" alt=\"Open In Colab\"/></a>"
      ]
    },
    {
      "cell_type": "code",
      "execution_count": 1,
      "metadata": {
        "id": "rFqq9TJOh_Sh",
        "colab": {
          "base_uri": "https://localhost:8080/"
        },
        "outputId": "51562852-a313-40a7-8d52-48dc6c65168b"
      },
      "outputs": [
        {
          "output_type": "stream",
          "name": "stdout",
          "text": [
            "Drive already mounted at /content/gdrive; to attempt to forcibly remount, call drive.mount(\"/content/gdrive\", force_remount=True).\n"
          ]
        }
      ],
      "source": [
        "import os\n",
        "from google.colab import drive\n",
        "import cv2\n",
        "import pandas as pd\n",
        "import numpy as np\n",
        "import sklearn\n",
        "import os\n",
        "from PIL import Image\n",
        "import matplotlib.pyplot as plt\n",
        "\n",
        "\n",
        "drive.mount('/content/gdrive')\n"
      ]
    },
    {
      "cell_type": "code",
      "source": [
        "os.chdir('gdrive/My Drive/SmartphoneImages/')  #change dir"
      ],
      "metadata": {
        "id": "otd1w1iCijO_"
      },
      "execution_count": 2,
      "outputs": []
    },
    {
      "cell_type": "code",
      "source": [
        "metadata = pd.read_csv('Dataset/metadata.csv')\n",
        "metadata = metadata.dropna()"
      ],
      "metadata": {
        "id": "v0tuwA7lEpPy"
      },
      "execution_count": 3,
      "outputs": []
    },
    {
      "cell_type": "code",
      "source": [
        "# from google.colab.patches import cv2_imshow\n",
        "# from PIL import Image\n",
        "# import glob\n",
        "# import argparse\n",
        "# import imutils\n",
        "# import cv2\n",
        "\n",
        "\n",
        "# image_list = []\n",
        "\n",
        "# x = 0\n",
        "# for filename in glob.glob('Dataset/Thresholds/*.png'):\n",
        "#   threshold = cv2.imread(filename, cv2.IMREAD_GRAYSCALE)\n",
        "#   th2 = threshold.copy()\n",
        "#   th2 = cv2.subtract(255, th2) \n",
        "#   cnts = cv2.findContours(th2, cv2.RETR_EXTERNAL,cv2.CHAIN_APPROX_SIMPLE)\n",
        "#   cnts = imutils.grab_contours(cnts)\n",
        "#   boolx = False\n",
        "#   for c in cnts:\n",
        "#     # compute the center of the contour\n",
        "#     M = cv2.moments(c)\n",
        "#     if M[\"m00\"] != 0:\n",
        "#       cX = int(M[\"m10\"] / M[\"m00\"])\n",
        "#       cY = int(M[\"m01\"] / M[\"m00\"])\n",
        "#     else:\n",
        "#       cX, cY = 0, 0\n",
        "#     # draw the contour and center of the shape on the image\n",
        "\n",
        "#     contours = []\n",
        "#     if (50 <= cX <=75) and (50 <= cY <=75) and cv2.contourArea(c)>= 400:\n",
        "#       boolx = True\n",
        "#       contours.append(c)\n",
        "#       cv2.drawContours(th2, [c], -1, (0, 255, 0), 2)\n",
        "#       cv2.circle(th2, (cX, cY), 7, (255, 255, 255), -1)\n",
        "#       cv2.putText(th2, \"center\", (cX - 20, cY - 20),\n",
        "#       cv2.FONT_HERSHEY_SIMPLEX, 0.5, (255, 255, 255), 2)\n",
        "\n",
        "#     for x in contours: \n",
        "#       mask = np.zeros_like(th2)\n",
        "#       # cv2.drawContours(mask, x, -1, 255, 2) # Draw filled contour in mask\n",
        "#       cv2.fillPoly(mask, pts =[x], color=(255,255,255))\n",
        "#       fn = 'Dataset/Masks/'+ filename[19:]\n",
        "#       cv2.imwrite(fn, mask)\n",
        "\n",
        "#       cv2_imshow(mask)\n",
        "      \n",
        "\n",
        "\n",
        "    \n",
        "\n",
        "\n",
        "    \n",
        "#   if boolx == True:\n",
        "#     x+=1\n",
        "#     # show the image\n",
        "#   cv2_imshow(th2)\n",
        "\n",
        "\n"
      ],
      "metadata": {
        "id": "3FWcCyg2i7UV"
      },
      "execution_count": 4,
      "outputs": []
    },
    {
      "cell_type": "code",
      "source": [
        "# from PIL import Image\n",
        "# import glob\n",
        "# import argparse\n",
        "# import imutils\n",
        "# import cv2\n",
        "\n",
        "# x = 0\n",
        "# for filename in glob.glob('Dataset/Masks/*.png'):\n",
        "#   mask = cv2.imread(filename)\n",
        "#   mask = cv2.cvtColor(mask, cv2.COLOR_BGR2GRAY)\n",
        "  \n",
        "\n",
        "#   x += 1\n",
        "  \n",
        "#   fn = 'Dataset/ImagesResizedRedone/' + filename[14:]\n",
        "#   img = cv2.imread(fn)\n",
        "\n",
        "#   masked = cv2.bitwise_and(img, img, mask=mask)\n",
        "\n",
        "\n",
        "#   # get first masked value (foreground)\n",
        "#   # fg = cv2.bitwise_or(img, img, mask=mask)\n",
        "\n",
        "#   # # get second masked value (background) mask must be inverted\n",
        "#   # mask = cv2.bitwise_not(mask)\n",
        "#   # background = np.full(img.shape, 255, dtype=np.uint8)\n",
        "#   # bk = cv2.bitwise_or(background, background, mask=mask)\n",
        "\n",
        "#   # # combine foreground+background\n",
        "#   # final = cv2.bitwise_or(fg, bk)\n",
        "\n",
        "#   y = 'Dataset/MaskedLesions/'+ filename[14:]\n",
        "#   cv2.imwrite(y, masked)\n",
        "#   cv2_imshow(masked)\n",
        "\n",
        "# print(x)"
      ],
      "metadata": {
        "id": "C1wQ-aWtmtjw"
      },
      "execution_count": 5,
      "outputs": []
    },
    {
      "cell_type": "code",
      "source": [
        "# import imutils\n",
        "\n",
        "# for filename in glob.glob('Dataset/Masks/*.png'):\n",
        "#   mask = cv2.imread(filename)\n",
        "#   mask = cv2.cvtColor(mask, cv2.COLOR_BGR2GRAY)\n",
        "  \n",
        "#   mask2 = mask.copy()\n",
        "#   # mask2 = cv2.subtract(255, mask2) \n",
        "#   cnts = cv2.findContours(mask2, cv2.RETR_EXTERNAL,cv2.CHAIN_APPROX_SIMPLE)\n",
        "#   cnts = imutils.grab_contours(cnts)\n",
        "#   M = cv2.moments(cnts[0])\n",
        "#   cX = int(M[\"m10\"] / M[\"m00\"])\n",
        "#   cY = int(M[\"m01\"] / M[\"m00\"])\n",
        "\n",
        "#   # draw the contour and center of the shape on the image\n",
        "#   cv2.drawContours(mask2, [cnts[0]], -1, (0, 255, 0), 2)\n",
        "#   cv2.circle(mask2, (cnts[0][0][0][0],cnts[0][0][0][1]), 3, (120, 0, 0), -1)\n",
        "#   c = cnts[0]\n",
        "\n",
        "\n",
        "#   for i in c:\n",
        "#     point = i[0]\n",
        "#     cv2.circle(mask2, (point[0],point[1]), 1, (120, 0, 0), -1)\n",
        "#     # xDistance = abs(cX-point[0])\n",
        "#     # yDistance = abs(cY-point[1])\n",
        "#     # print(xDistance,yDistance)\n",
        "\n",
        "#   # show the image\n",
        "#   cv2_imshow(mask2)"
      ],
      "metadata": {
        "id": "iaigNr8mwwNA"
      },
      "execution_count": 6,
      "outputs": []
    },
    {
      "cell_type": "code",
      "source": [
        "# c = cnts[0]\n",
        "\n",
        "\n",
        "# for i in c:\n",
        "#   point = i[0]\n",
        "  \n",
        "#   xDistance = abs(cX-point[0])\n",
        "#   yDistance = abs(cY-point[1])\n",
        "#   print(xDistance,yDistance)\n",
        "\n",
        "# print(len(c))"
      ],
      "metadata": {
        "id": "Yw33mam04bwL"
      },
      "execution_count": 7,
      "outputs": []
    },
    {
      "cell_type": "code",
      "source": [
        "from google.colab.patches import cv2_imshow\n",
        "from PIL import Image\n",
        "import glob\n",
        "import argparse\n",
        "import imutils\n",
        "import cv2\n",
        "\n",
        "\n",
        "finalImagesMetadata = metadata.copy()\n",
        "imageFilenames = []\n",
        "x = 0\n",
        "for filename in glob.glob('Dataset/MaskedLesions/*.png'):\n",
        "  if filename[22:] in list(finalImagesMetadata['img_id']):\n",
        "    imageFilenames.append(filename[22:])\n",
        "\n",
        "\n",
        "    \n",
        "# print(finalImagesMetadata['img_id'])"
      ],
      "metadata": {
        "id": "scd9nwd0DlDt"
      },
      "execution_count": 8,
      "outputs": []
    },
    {
      "cell_type": "code",
      "source": [
        "imageFilenames\n",
        "\n",
        "finalImagesMetadata = finalImagesMetadata[finalImagesMetadata['img_id'].isin(imageFilenames)]"
      ],
      "metadata": {
        "id": "FGyQO5-jMHy8"
      },
      "execution_count": 9,
      "outputs": []
    },
    {
      "cell_type": "code",
      "source": [
        "finalImagesMetadata.columns"
      ],
      "metadata": {
        "id": "WF1hqhhLSEkN",
        "colab": {
          "base_uri": "https://localhost:8080/"
        },
        "outputId": "4f5ab829-d4b5-4769-be09-318d0c0fc335"
      },
      "execution_count": 10,
      "outputs": [
        {
          "output_type": "execute_result",
          "data": {
            "text/plain": [
              "Index(['patient_id', 'smoke', 'drink', 'background_father',\n",
              "       'background_mother', 'age', 'pesticide', 'gender',\n",
              "       'skin_cancer_history', 'cancer_history', 'has_piped_water',\n",
              "       'has_sewage_system', 'fitspatrick', 'region', 'diameter_1',\n",
              "       'diameter_2', 'diagnostic', 'itch', 'grew', 'hurt', 'changed', 'bleed',\n",
              "       'elevation', 'img_id', 'biopsed'],\n",
              "      dtype='object')"
            ]
          },
          "metadata": {},
          "execution_count": 10
        }
      ]
    },
    {
      "cell_type": "code",
      "source": [
        "finalImagesMetadata.drop(labels=['patient_id', 'background_father', 'background_mother', 'pesticide', 'has_piped_water', 'has_sewage_system', 'biopsed'], axis=1, inplace = True)"
      ],
      "metadata": {
        "id": "JM5YtKJsOBfT"
      },
      "execution_count": 11,
      "outputs": []
    },
    {
      "cell_type": "code",
      "source": [
        "def encode_and_bind(original_dataframe, feature_to_encode):\n",
        "    dummies = pd.get_dummies(original_dataframe[[feature_to_encode]])\n",
        "    dummies.add_suffix(feature_to_encode + '_')\n",
        "    res = pd.concat([original_dataframe, dummies], axis=1)\n",
        "    res.drop(feature_to_encode, axis = 1, inplace = True)\n",
        "    return(res)\n",
        "\n",
        "\n"
      ],
      "metadata": {
        "id": "aKTRqOs3OLYh"
      },
      "execution_count": 12,
      "outputs": []
    },
    {
      "cell_type": "code",
      "source": [
        "features_to_encode = ['itch', 'grew', 'hurt', 'changed', 'bleed', 'region']\n",
        "for feature in features_to_encode:\n",
        "    finalImagesMetadata = encode_and_bind(finalImagesMetadata, feature)"
      ],
      "metadata": {
        "id": "O5zLL5rK8gU1"
      },
      "execution_count": 13,
      "outputs": []
    },
    {
      "cell_type": "code",
      "source": [
        "finalImagesMetadata.columns"
      ],
      "metadata": {
        "id": "UBUgUtL6MCKL",
        "colab": {
          "base_uri": "https://localhost:8080/"
        },
        "outputId": "f73e63ad-2432-4493-ebed-4c449eac7ab8"
      },
      "execution_count": 14,
      "outputs": [
        {
          "output_type": "execute_result",
          "data": {
            "text/plain": [
              "Index(['smoke', 'drink', 'age', 'gender', 'skin_cancer_history',\n",
              "       'cancer_history', 'fitspatrick', 'diameter_1', 'diameter_2',\n",
              "       'diagnostic', 'elevation', 'img_id', 'itch_FALSE', 'itch_TRUE',\n",
              "       'itch_UNK', 'grew_FALSE', 'grew_TRUE', 'grew_UNK', 'hurt_FALSE',\n",
              "       'hurt_TRUE', 'hurt_UNK', 'changed_FALSE', 'changed_TRUE', 'changed_UNK',\n",
              "       'bleed_FALSE', 'bleed_TRUE', 'bleed_UNK', 'region_ABDOMEN',\n",
              "       'region_ARM', 'region_BACK', 'region_CHEST', 'region_EAR',\n",
              "       'region_FACE', 'region_FOOT', 'region_FOREARM', 'region_HAND',\n",
              "       'region_NECK', 'region_NOSE', 'region_THIGH'],\n",
              "      dtype='object')"
            ]
          },
          "metadata": {},
          "execution_count": 14
        }
      ]
    },
    {
      "cell_type": "code",
      "source": [
        "finalImagesMetadata.head()"
      ],
      "metadata": {
        "id": "FDn7yPbkpp_F",
        "colab": {
          "base_uri": "https://localhost:8080/",
          "height": 300
        },
        "outputId": "12e19607-dd54-41bc-dd5a-a39b0ce0fdf9"
      },
      "execution_count": 15,
      "outputs": [
        {
          "output_type": "execute_result",
          "data": {
            "text/plain": [
              "    smoke  drink  age  gender  skin_cancer_history  cancer_history  \\\n",
              "12  False  False   61    MALE                 True           False   \n",
              "14  False  False   60  FEMALE                False            True   \n",
              "36  False  False   51  FEMALE                 True            True   \n",
              "54  False  False   49  FEMALE                False           False   \n",
              "66  False   True   70    MALE                False           False   \n",
              "\n",
              "    fitspatrick  diameter_1  diameter_2 diagnostic  ... region_BACK  \\\n",
              "12            2        10.0        10.0        BCC  ...           0   \n",
              "14            3        10.0         8.0        BCC  ...           0   \n",
              "36            3         6.0         4.0        NEV  ...           1   \n",
              "54            2        23.0        20.0        MEL  ...           0   \n",
              "66            2        18.0        13.0        SCC  ...           0   \n",
              "\n",
              "   region_CHEST  region_EAR  region_FACE  region_FOOT  region_FOREARM  \\\n",
              "12            1           0            0            0               0   \n",
              "14            0           0            1            0               0   \n",
              "36            0           0            0            0               0   \n",
              "54            0           0            0            0               0   \n",
              "66            1           0            0            0               0   \n",
              "\n",
              "    region_HAND  region_NECK  region_NOSE  region_THIGH  \n",
              "12            0            0            0             0  \n",
              "14            0            0            0             0  \n",
              "36            0            0            0             0  \n",
              "54            0            0            0             1  \n",
              "66            0            0            0             0  \n",
              "\n",
              "[5 rows x 39 columns]"
            ],
            "text/html": [
              "\n",
              "  <div id=\"df-9ddeebaa-022b-412d-8d6b-b863b712192c\">\n",
              "    <div class=\"colab-df-container\">\n",
              "      <div>\n",
              "<style scoped>\n",
              "    .dataframe tbody tr th:only-of-type {\n",
              "        vertical-align: middle;\n",
              "    }\n",
              "\n",
              "    .dataframe tbody tr th {\n",
              "        vertical-align: top;\n",
              "    }\n",
              "\n",
              "    .dataframe thead th {\n",
              "        text-align: right;\n",
              "    }\n",
              "</style>\n",
              "<table border=\"1\" class=\"dataframe\">\n",
              "  <thead>\n",
              "    <tr style=\"text-align: right;\">\n",
              "      <th></th>\n",
              "      <th>smoke</th>\n",
              "      <th>drink</th>\n",
              "      <th>age</th>\n",
              "      <th>gender</th>\n",
              "      <th>skin_cancer_history</th>\n",
              "      <th>cancer_history</th>\n",
              "      <th>fitspatrick</th>\n",
              "      <th>diameter_1</th>\n",
              "      <th>diameter_2</th>\n",
              "      <th>diagnostic</th>\n",
              "      <th>...</th>\n",
              "      <th>region_BACK</th>\n",
              "      <th>region_CHEST</th>\n",
              "      <th>region_EAR</th>\n",
              "      <th>region_FACE</th>\n",
              "      <th>region_FOOT</th>\n",
              "      <th>region_FOREARM</th>\n",
              "      <th>region_HAND</th>\n",
              "      <th>region_NECK</th>\n",
              "      <th>region_NOSE</th>\n",
              "      <th>region_THIGH</th>\n",
              "    </tr>\n",
              "  </thead>\n",
              "  <tbody>\n",
              "    <tr>\n",
              "      <th>12</th>\n",
              "      <td>False</td>\n",
              "      <td>False</td>\n",
              "      <td>61</td>\n",
              "      <td>MALE</td>\n",
              "      <td>True</td>\n",
              "      <td>False</td>\n",
              "      <td>2</td>\n",
              "      <td>10.0</td>\n",
              "      <td>10.0</td>\n",
              "      <td>BCC</td>\n",
              "      <td>...</td>\n",
              "      <td>0</td>\n",
              "      <td>1</td>\n",
              "      <td>0</td>\n",
              "      <td>0</td>\n",
              "      <td>0</td>\n",
              "      <td>0</td>\n",
              "      <td>0</td>\n",
              "      <td>0</td>\n",
              "      <td>0</td>\n",
              "      <td>0</td>\n",
              "    </tr>\n",
              "    <tr>\n",
              "      <th>14</th>\n",
              "      <td>False</td>\n",
              "      <td>False</td>\n",
              "      <td>60</td>\n",
              "      <td>FEMALE</td>\n",
              "      <td>False</td>\n",
              "      <td>True</td>\n",
              "      <td>3</td>\n",
              "      <td>10.0</td>\n",
              "      <td>8.0</td>\n",
              "      <td>BCC</td>\n",
              "      <td>...</td>\n",
              "      <td>0</td>\n",
              "      <td>0</td>\n",
              "      <td>0</td>\n",
              "      <td>1</td>\n",
              "      <td>0</td>\n",
              "      <td>0</td>\n",
              "      <td>0</td>\n",
              "      <td>0</td>\n",
              "      <td>0</td>\n",
              "      <td>0</td>\n",
              "    </tr>\n",
              "    <tr>\n",
              "      <th>36</th>\n",
              "      <td>False</td>\n",
              "      <td>False</td>\n",
              "      <td>51</td>\n",
              "      <td>FEMALE</td>\n",
              "      <td>True</td>\n",
              "      <td>True</td>\n",
              "      <td>3</td>\n",
              "      <td>6.0</td>\n",
              "      <td>4.0</td>\n",
              "      <td>NEV</td>\n",
              "      <td>...</td>\n",
              "      <td>1</td>\n",
              "      <td>0</td>\n",
              "      <td>0</td>\n",
              "      <td>0</td>\n",
              "      <td>0</td>\n",
              "      <td>0</td>\n",
              "      <td>0</td>\n",
              "      <td>0</td>\n",
              "      <td>0</td>\n",
              "      <td>0</td>\n",
              "    </tr>\n",
              "    <tr>\n",
              "      <th>54</th>\n",
              "      <td>False</td>\n",
              "      <td>False</td>\n",
              "      <td>49</td>\n",
              "      <td>FEMALE</td>\n",
              "      <td>False</td>\n",
              "      <td>False</td>\n",
              "      <td>2</td>\n",
              "      <td>23.0</td>\n",
              "      <td>20.0</td>\n",
              "      <td>MEL</td>\n",
              "      <td>...</td>\n",
              "      <td>0</td>\n",
              "      <td>0</td>\n",
              "      <td>0</td>\n",
              "      <td>0</td>\n",
              "      <td>0</td>\n",
              "      <td>0</td>\n",
              "      <td>0</td>\n",
              "      <td>0</td>\n",
              "      <td>0</td>\n",
              "      <td>1</td>\n",
              "    </tr>\n",
              "    <tr>\n",
              "      <th>66</th>\n",
              "      <td>False</td>\n",
              "      <td>True</td>\n",
              "      <td>70</td>\n",
              "      <td>MALE</td>\n",
              "      <td>False</td>\n",
              "      <td>False</td>\n",
              "      <td>2</td>\n",
              "      <td>18.0</td>\n",
              "      <td>13.0</td>\n",
              "      <td>SCC</td>\n",
              "      <td>...</td>\n",
              "      <td>0</td>\n",
              "      <td>1</td>\n",
              "      <td>0</td>\n",
              "      <td>0</td>\n",
              "      <td>0</td>\n",
              "      <td>0</td>\n",
              "      <td>0</td>\n",
              "      <td>0</td>\n",
              "      <td>0</td>\n",
              "      <td>0</td>\n",
              "    </tr>\n",
              "  </tbody>\n",
              "</table>\n",
              "<p>5 rows × 39 columns</p>\n",
              "</div>\n",
              "      <button class=\"colab-df-convert\" onclick=\"convertToInteractive('df-9ddeebaa-022b-412d-8d6b-b863b712192c')\"\n",
              "              title=\"Convert this dataframe to an interactive table.\"\n",
              "              style=\"display:none;\">\n",
              "        \n",
              "  <svg xmlns=\"http://www.w3.org/2000/svg\" height=\"24px\"viewBox=\"0 0 24 24\"\n",
              "       width=\"24px\">\n",
              "    <path d=\"M0 0h24v24H0V0z\" fill=\"none\"/>\n",
              "    <path d=\"M18.56 5.44l.94 2.06.94-2.06 2.06-.94-2.06-.94-.94-2.06-.94 2.06-2.06.94zm-11 1L8.5 8.5l.94-2.06 2.06-.94-2.06-.94L8.5 2.5l-.94 2.06-2.06.94zm10 10l.94 2.06.94-2.06 2.06-.94-2.06-.94-.94-2.06-.94 2.06-2.06.94z\"/><path d=\"M17.41 7.96l-1.37-1.37c-.4-.4-.92-.59-1.43-.59-.52 0-1.04.2-1.43.59L10.3 9.45l-7.72 7.72c-.78.78-.78 2.05 0 2.83L4 21.41c.39.39.9.59 1.41.59.51 0 1.02-.2 1.41-.59l7.78-7.78 2.81-2.81c.8-.78.8-2.07 0-2.86zM5.41 20L4 18.59l7.72-7.72 1.47 1.35L5.41 20z\"/>\n",
              "  </svg>\n",
              "      </button>\n",
              "      \n",
              "  <style>\n",
              "    .colab-df-container {\n",
              "      display:flex;\n",
              "      flex-wrap:wrap;\n",
              "      gap: 12px;\n",
              "    }\n",
              "\n",
              "    .colab-df-convert {\n",
              "      background-color: #E8F0FE;\n",
              "      border: none;\n",
              "      border-radius: 50%;\n",
              "      cursor: pointer;\n",
              "      display: none;\n",
              "      fill: #1967D2;\n",
              "      height: 32px;\n",
              "      padding: 0 0 0 0;\n",
              "      width: 32px;\n",
              "    }\n",
              "\n",
              "    .colab-df-convert:hover {\n",
              "      background-color: #E2EBFA;\n",
              "      box-shadow: 0px 1px 2px rgba(60, 64, 67, 0.3), 0px 1px 3px 1px rgba(60, 64, 67, 0.15);\n",
              "      fill: #174EA6;\n",
              "    }\n",
              "\n",
              "    [theme=dark] .colab-df-convert {\n",
              "      background-color: #3B4455;\n",
              "      fill: #D2E3FC;\n",
              "    }\n",
              "\n",
              "    [theme=dark] .colab-df-convert:hover {\n",
              "      background-color: #434B5C;\n",
              "      box-shadow: 0px 1px 3px 1px rgba(0, 0, 0, 0.15);\n",
              "      filter: drop-shadow(0px 1px 2px rgba(0, 0, 0, 0.3));\n",
              "      fill: #FFFFFF;\n",
              "    }\n",
              "  </style>\n",
              "\n",
              "      <script>\n",
              "        const buttonEl =\n",
              "          document.querySelector('#df-9ddeebaa-022b-412d-8d6b-b863b712192c button.colab-df-convert');\n",
              "        buttonEl.style.display =\n",
              "          google.colab.kernel.accessAllowed ? 'block' : 'none';\n",
              "\n",
              "        async function convertToInteractive(key) {\n",
              "          const element = document.querySelector('#df-9ddeebaa-022b-412d-8d6b-b863b712192c');\n",
              "          const dataTable =\n",
              "            await google.colab.kernel.invokeFunction('convertToInteractive',\n",
              "                                                     [key], {});\n",
              "          if (!dataTable) return;\n",
              "\n",
              "          const docLinkHtml = 'Like what you see? Visit the ' +\n",
              "            '<a target=\"_blank\" href=https://colab.research.google.com/notebooks/data_table.ipynb>data table notebook</a>'\n",
              "            + ' to learn more about interactive tables.';\n",
              "          element.innerHTML = '';\n",
              "          dataTable['output_type'] = 'display_data';\n",
              "          await google.colab.output.renderOutput(dataTable, element);\n",
              "          const docLink = document.createElement('div');\n",
              "          docLink.innerHTML = docLinkHtml;\n",
              "          element.appendChild(docLink);\n",
              "        }\n",
              "      </script>\n",
              "    </div>\n",
              "  </div>\n",
              "  "
            ]
          },
          "metadata": {},
          "execution_count": 15
        }
      ]
    },
    {
      "cell_type": "code",
      "source": [
        "def categorise(row):  \n",
        "    if row['diagnostic'] == 'MEL':\n",
        "        return 1\n",
        "    elif row['diagnostic'] != 'MEL':\n",
        "      return 0\n",
        "\n",
        "finalImagesMetadata['output'] = finalImagesMetadata.apply(lambda row: categorise(row), axis=1)\n"
      ],
      "metadata": {
        "id": "Hjx0dMR1nAgp"
      },
      "execution_count": 16,
      "outputs": []
    },
    {
      "cell_type": "code",
      "source": [
        "finalImagesMetadata.columns"
      ],
      "metadata": {
        "id": "RNGmN_2_5G9F",
        "colab": {
          "base_uri": "https://localhost:8080/"
        },
        "outputId": "b4da5f09-ed04-4500-f312-eeb37294e6d6"
      },
      "execution_count": 17,
      "outputs": [
        {
          "output_type": "execute_result",
          "data": {
            "text/plain": [
              "Index(['smoke', 'drink', 'age', 'gender', 'skin_cancer_history',\n",
              "       'cancer_history', 'fitspatrick', 'diameter_1', 'diameter_2',\n",
              "       'diagnostic', 'elevation', 'img_id', 'itch_FALSE', 'itch_TRUE',\n",
              "       'itch_UNK', 'grew_FALSE', 'grew_TRUE', 'grew_UNK', 'hurt_FALSE',\n",
              "       'hurt_TRUE', 'hurt_UNK', 'changed_FALSE', 'changed_TRUE', 'changed_UNK',\n",
              "       'bleed_FALSE', 'bleed_TRUE', 'bleed_UNK', 'region_ABDOMEN',\n",
              "       'region_ARM', 'region_BACK', 'region_CHEST', 'region_EAR',\n",
              "       'region_FACE', 'region_FOOT', 'region_FOREARM', 'region_HAND',\n",
              "       'region_NECK', 'region_NOSE', 'region_THIGH', 'output'],\n",
              "      dtype='object')"
            ]
          },
          "metadata": {},
          "execution_count": 17
        }
      ]
    },
    {
      "cell_type": "code",
      "source": [
        "finalImagesMetadata.output.value_counts()"
      ],
      "metadata": {
        "id": "1E057MTWR6ji",
        "colab": {
          "base_uri": "https://localhost:8080/"
        },
        "outputId": "6f33320d-3bc2-453b-d5f7-d84d8ce3c5c7"
      },
      "execution_count": 18,
      "outputs": [
        {
          "output_type": "execute_result",
          "data": {
            "text/plain": [
              "0    142\n",
              "1     29\n",
              "Name: output, dtype: int64"
            ]
          },
          "metadata": {},
          "execution_count": 18
        }
      ]
    },
    {
      "cell_type": "code",
      "source": [
        "from sklearn.model_selection import train_test_split\n",
        "\n",
        "trainpre, test = train_test_split(finalImagesMetadata, test_size=0.2, random_state=41, stratify=finalImagesMetadata.output)\n",
        "\n",
        "train, val = train_test_split(trainpre, test_size=0.2, random_state=41, stratify=trainpre.output)\n",
        "\n"
      ],
      "metadata": {
        "id": "GOneb8AfXYp1"
      },
      "execution_count": 19,
      "outputs": []
    },
    {
      "cell_type": "code",
      "source": [
        "print(train.output.value_counts(), test.output.value_counts(), val.output.value_counts())"
      ],
      "metadata": {
        "id": "vw2C4EUm0gYM",
        "colab": {
          "base_uri": "https://localhost:8080/"
        },
        "outputId": "7dc93c1c-4c0e-4abf-a339-2d4b06903041"
      },
      "execution_count": 20,
      "outputs": [
        {
          "output_type": "stream",
          "name": "stdout",
          "text": [
            "0    90\n",
            "1    18\n",
            "Name: output, dtype: int64 0    29\n",
            "1     6\n",
            "Name: output, dtype: int64 0    23\n",
            "1     5\n",
            "Name: output, dtype: int64\n"
          ]
        }
      ]
    },
    {
      "cell_type": "code",
      "source": [
        "import shutil, os\n",
        "os.chdir('Dataset/MaskedLesions/') \n",
        "\n",
        "\n",
        "files = glob.glob('Test/*.png')\n",
        "for f in files:\n",
        "    os.remove(f)\n",
        "\n",
        "files = glob.glob('Train/*.png')\n",
        "for f in files:\n",
        "    os.remove(f)\n",
        "\n",
        "files = glob.glob('Val/*.png')\n",
        "for f in files:\n",
        "    os.remove(f)\n",
        "\n",
        "files = glob.glob('Test/0/*.png')\n",
        "for f in files:\n",
        "    os.remove(f)\n",
        "\n",
        "files = glob.glob('Test/1/*.png')\n",
        "for f in files:\n",
        "    os.remove(f)\n",
        "\n",
        "files = glob.glob('Train/0/*.png')\n",
        "for f in files:\n",
        "    os.remove(f)\n",
        "\n",
        "files = glob.glob('Train/1/*.png')\n",
        "for f in files:\n",
        "    os.remove(f)\n",
        "\n",
        "\n",
        "files = glob.glob('Val/0/*.png')\n",
        "for f in files:\n",
        "    os.remove(f)\n",
        "\n",
        "files = glob.glob('Val/1/*.png')\n",
        "for f in files:\n",
        "    os.remove(f)\n",
        "\n",
        "for i,row in test.iterrows():\n",
        "        id = row['img_id']\n",
        "        if row.output == 0:\n",
        "          shutil.copy(id, 'Test/0')\n",
        "        elif row.output == 1:\n",
        "          shutil.copy(id, 'Test/1')\n",
        "\n",
        "for i,row in train.iterrows():\n",
        "        id = row['img_id']\n",
        "        if row.output == 0:\n",
        "          shutil.copy(id, 'Train/0')\n",
        "        elif row.output == 1:\n",
        "          shutil.copy(id, 'Train/1')\n",
        "\n",
        "\n",
        "for i,row in val.iterrows():\n",
        "        id = row['img_id']\n",
        "        if row.output == 0:\n",
        "          shutil.copy(id, 'Val/0')\n",
        "        elif row.output == 1:\n",
        "          shutil.copy(id, 'Val/1')\n",
        "\n"
      ],
      "metadata": {
        "id": "WDgeXz3cpYHs"
      },
      "execution_count": 21,
      "outputs": []
    },
    {
      "cell_type": "code",
      "source": [
        "train.output.value_counts()\n",
        "\n",
        "train = train.reset_index()\n",
        "test = test.reset_index()\n",
        "# val = val.reset_index()"
      ],
      "metadata": {
        "id": "aLmc_EXSeKxK"
      },
      "execution_count": 22,
      "outputs": []
    },
    {
      "cell_type": "code",
      "source": [
        "import os\n",
        "import cv2\n",
        "import imutils as imutils\n",
        "import numpy as np # linear algebra\n",
        "import pandas as pd # data processing, CSV file I/O (e.g. pd.read_csv)\n",
        "import tensorflow as tf # machine learning\n",
        "from tqdm import tqdm # make your loops show a smart progress meter \n",
        "import matplotlib.pyplot as plt\n",
        "import matplotlib.image as mpimg\n",
        "from sklearn.metrics import accuracy_score, confusion_matrix\n",
        "import seaborn as sn\n",
        "\n",
        "%matplotlib inline\n",
        "def plot_imgs(title, dfcol):\n",
        "    fig = plt.figure(figsize=(14, 8), dpi=72)\n",
        "    fig.suptitle(title, fontsize=24, y=1.05)\n",
        "    for i,row in dfcol.iterrows():\n",
        "        img = cv2.imread(row['img_id'])\n",
        "        img = cv2.cvtColor(img, cv2.COLOR_BGR2RGB)\n",
        "        plt.subplot(int(len(dfcol.index)/5), 5, i+1)\n",
        "        plt.xticks([])\n",
        "        plt.yticks([])\n",
        "        plt.grid(False)\n",
        "        subtitle = 'YES' if row['output'] == 1 else 'NO'\n",
        "        plt.title(subtitle)\n",
        "        plt.imshow(img)\n",
        "    plt.tight_layout()\n",
        "    plt.subplots_adjust(left=None, bottom=None, right=None, top=None, wspace=None)\n",
        "    plt.show()\n",
        "    \n",
        "    \n",
        "plot_imgs(\"Test\", test)\n"
      ],
      "metadata": {
        "id": "l3q2soX3eOh8",
        "colab": {
          "base_uri": "https://localhost:8080/",
          "height": 625
        },
        "outputId": "f7d1f770-4de6-4721-b20d-7800c9ea336b"
      },
      "execution_count": 44,
      "outputs": [
        {
          "output_type": "display_data",
          "data": {
            "text/plain": [
              "<Figure size 1008x576 with 35 Axes>"
            ],
            "image/png": "[encoded data removed]"
          },
          "metadata": {}
        }
      ]
    },
    {
      "cell_type": "code",
      "source": [
        "train_datagen = tf.keras.preprocessing.image.ImageDataGenerator(\n",
        "    rotation_range=30,\n",
        "    width_shift_range=0.1,\n",
        "    height_shift_range=0.1,\n",
        "    shear_range=0.1,\n",
        "    brightness_range=[0.5, 1],\n",
        "    horizontal_flip=True,\n",
        "    vertical_flip=True,\n",
        "    preprocessing_function=tf.keras.applications.vgg16.preprocess_input\n",
        ")\n",
        "\n",
        "test_datagen = tf.keras.preprocessing.image.ImageDataGenerator(\n",
        "    preprocessing_function=tf.keras.applications.vgg16.preprocess_input\n",
        ")\n",
        "\n",
        "RANDOM_SEED = 1\n",
        "IMG_SIZE = (128, 128) # size of vgg16 input\n",
        "\n",
        "\n",
        "\n",
        "train_generator = train_datagen.flow_from_directory(\n",
        "    'Train/',\n",
        "    color_mode='rgb',\n",
        "    target_size=IMG_SIZE,\n",
        "    batch_size=8,\n",
        "    class_mode='binary',\n",
        "    seed=RANDOM_SEED\n",
        ")\n",
        "\n",
        "\n",
        "validation_generator = test_datagen.flow_from_directory(\n",
        "    'Val/',\n",
        "    color_mode='rgb',\n",
        "    target_size=IMG_SIZE,\n",
        "    batch_size=2,\n",
        "    class_mode='binary',\n",
        "    seed=RANDOM_SEED\n",
        ")"
      ],
      "metadata": {
        "id": "nyHOFiJIcVvj",
        "colab": {
          "base_uri": "https://localhost:8080/"
        },
        "outputId": "5127657a-a43a-4275-8764-c032dbef46b2"
      },
      "execution_count": 45,
      "outputs": [
        {
          "output_type": "stream",
          "name": "stdout",
          "text": [
            "Found 108 images belonging to 2 classes.\n",
            "Found 28 images belonging to 2 classes.\n"
          ]
        }
      ]
    },
    {
      "cell_type": "markdown",
      "source": [
        "## VGG16"
      ],
      "metadata": {
        "id": "nY-mlChEbXW4"
      }
    },
    {
      "cell_type": "code",
      "source": [
        "\n",
        "base_model = tf.keras.applications.VGG16(\n",
        "    include_top=False,\n",
        "    input_shape=(128, 128, 3)\n",
        ")\n",
        "\n",
        "model = tf.keras.models.Sequential()\n",
        "model.add(base_model)\n",
        "model.add(tf.keras.layers.Flatten())\n",
        "model.add(tf.keras.layers.Dropout(0.5))\n",
        "model.add(tf.keras.layers.Dense(1, activation='sigmoid'))\n",
        "\n",
        "# model.layers[0].trainable = False\n",
        "\n",
        "model.compile(\n",
        "    loss='binary_crossentropy',\n",
        "    optimizer=tf.keras.optimizers.Adam(),\n",
        "    metrics=['accuracy']\n",
        ")\n",
        "\n",
        "model.summary()"
      ],
      "metadata": {
        "colab": {
          "base_uri": "https://localhost:8080/"
        },
        "id": "MUBlaWOzMjDo",
        "outputId": "946e0630-9af0-4943-98b5-297ae9902ea5"
      },
      "execution_count": 62,
      "outputs": [
        {
          "output_type": "stream",
          "name": "stdout",
          "text": [
            "Model: \"sequential_7\"\n",
            "_________________________________________________________________\n",
            " Layer (type)                Output Shape              Param #   \n",
            "=================================================================\n",
            " vgg16 (Functional)          (None, 4, 4, 512)         14714688  \n",
            "                                                                 \n",
            " flatten_7 (Flatten)         (None, 8192)              0         \n",
            "                                                                 \n",
            " dropout_2 (Dropout)         (None, 8192)              0         \n",
            "                                                                 \n",
            " dense_7 (Dense)             (None, 1)                 8193      \n",
            "                                                                 \n",
            "=================================================================\n",
            "Total params: 14,722,881\n",
            "Trainable params: 14,722,881\n",
            "Non-trainable params: 0\n",
            "_________________________________________________________________\n"
          ]
        }
      ]
    },
    {
      "cell_type": "code",
      "source": [
        "EPOCHS = 10\n",
        "\n",
        "\n",
        "\n",
        "early_stopping = tf.keras.callbacks.EarlyStopping(\n",
        "    monitor='val_accuracy',\n",
        "    mode='max',\n",
        "    patience=6\n",
        ")\n",
        "\n",
        "history = model.fit(\n",
        "    train_generator,\n",
        "    steps_per_epoch= len(train)//32,\n",
        "    epochs=EPOCHS,\n",
        "    validation_data=validation_generator,\n",
        "    validation_steps=len(train)//16,\n",
        "    callbacks=[early_stopping]\n",
        ")\n",
        "\n",
        "print(\"Training Done\")\n",
        "model.save(\"model.h5\")"
      ],
      "metadata": {
        "colab": {
          "base_uri": "https://localhost:8080/"
        },
        "id": "i2T8cNXgQ03V",
        "outputId": "85246874-437f-4cbf-e41e-8ddfb8b1b4f5"
      },
      "execution_count": 63,
      "outputs": [
        {
          "output_type": "stream",
          "name": "stdout",
          "text": [
            "Epoch 1/10\n",
            "3/3 [==============================] - 1s 210ms/step - loss: 15.6417 - accuracy: 0.5833 - val_loss: 4.0704 - val_accuracy: 0.9167\n",
            "Epoch 2/10\n",
            "3/3 [==============================] - 0s 108ms/step - loss: 11.4234 - accuracy: 0.6667 - val_loss: 0.8316 - val_accuracy: 0.5000\n",
            "Epoch 3/10\n",
            "3/3 [==============================] - 0s 125ms/step - loss: 2.4093 - accuracy: 0.5500 - val_loss: 0.5816 - val_accuracy: 0.7500\n",
            "Epoch 4/10\n",
            "3/3 [==============================] - 0s 113ms/step - loss: 1.8450 - accuracy: 0.5833 - val_loss: 0.5716 - val_accuracy: 0.7500\n",
            "Epoch 5/10\n",
            "3/3 [==============================] - 0s 107ms/step - loss: 0.6771 - accuracy: 0.6667 - val_loss: 0.5605 - val_accuracy: 0.8333\n",
            "Epoch 6/10\n",
            "3/3 [==============================] - 0s 111ms/step - loss: 0.4983 - accuracy: 0.7500 - val_loss: 0.4903 - val_accuracy: 0.8333\n",
            "Epoch 7/10\n",
            "3/3 [==============================] - 0s 106ms/step - loss: 0.3783 - accuracy: 0.8750 - val_loss: 1.0783 - val_accuracy: 0.7500\n",
            "Training Done\n"
          ]
        }
      ]
    },
    {
      "cell_type": "code",
      "source": [
        "Test_Path  = 'Test/'\n",
        "\n",
        "def preprocess_imgs(path, img_size):\n",
        "    set_new = []\n",
        "    for value in os.listdir(path):\n",
        "        for img in os.listdir(path + value):\n",
        "            img = cv2.imread(path + value + \"/\" + img)\n",
        "            img = cv2.resize(\n",
        "                img,\n",
        "                dsize=img_size,\n",
        "                interpolation=cv2.INTER_CUBIC\n",
        "            )\n",
        "            set_new.append(tf.keras.applications.vgg16.preprocess_input(img))\n",
        "    \n",
        "    return np.array(set_new)\n",
        "\n",
        "test_data = preprocess_imgs(Test_Path, img_size=IMG_SIZE)\n",
        "\n",
        "reality = []\n",
        "for value in os.listdir(Test_Path):\n",
        "    for img in os.listdir(Test_Path + value):\n",
        "        reality.append(1) if value == \"1\" else reality.append(0)\n",
        "        \n",
        "predictions = model.predict(test_data)\n",
        "predictions = [0 if x < 0.5 else 1 for x in predictions]\n",
        "\n",
        "accuracy = accuracy_score(reality, predictions)\n",
        "print(\"Test Accuracy:\", accuracy)"
      ],
      "metadata": {
        "colab": {
          "base_uri": "https://localhost:8080/"
        },
        "id": "fFsnFeJpRabb",
        "outputId": "8b5e0928-da03-4f08-da90-d58f57785866"
      },
      "execution_count": 64,
      "outputs": [
        {
          "output_type": "stream",
          "name": "stdout",
          "text": [
            "WARNING:tensorflow:6 out of the last 23 calls to <function Model.make_predict_function.<locals>.predict_function at 0x7feb2e77d8c0> triggered tf.function retracing. Tracing is expensive and the excessive number of tracings could be due to (1) creating @tf.function repeatedly in a loop, (2) passing tensors with different shapes, (3) passing Python objects instead of tensors. For (1), please define your @tf.function outside of the loop. For (2), @tf.function has experimental_relax_shapes=True option that relaxes argument shapes that can avoid unnecessary retracing. For (3), please refer to https://www.tensorflow.org/guide/function#controlling_retracing and https://www.tensorflow.org/api_docs/python/tf/function for  more details.\n",
            "Test Accuracy: 0.8285714285714286\n"
          ]
        }
      ]
    },
    {
      "cell_type": "code",
      "source": [
        "\n",
        "\n",
        "confusion_mtx = confusion_matrix(reality, predictions)\n",
        "\n",
        "ax = plt.axes()\n",
        "sn.heatmap(confusion_mtx, annot=True,annot_kws={\"size\": 25}, cmap=\"Blues\", ax = ax)\n",
        "ax.set_title('Test Accuracy', size=14)\n",
        "plt.show()\n",
        "\n"
      ],
      "metadata": {
        "colab": {
          "base_uri": "https://localhost:8080/",
          "height": 282
        },
        "id": "TPvx032uSFvX",
        "outputId": "20c66b21-5adc-40f8-e835-78fdef161e92"
      },
      "execution_count": 56,
      "outputs": [
        {
          "output_type": "display_data",
          "data": {
            "text/plain": [
              "<Figure size 432x288 with 2 Axes>"
            ],
            "image/png": "[encoded data removed]"
          },
          "metadata": {
            "needs_background": "light"
          }
        }
      ]
    },
    {
      "cell_type": "code",
      "source": [
        "confusion_mtx"
      ],
      "metadata": {
        "id": "NlH4xWCuZwYF",
        "colab": {
          "base_uri": "https://localhost:8080/"
        },
        "outputId": "83efe86e-1781-44c0-8655-4507d1c30c6d"
      },
      "execution_count": 29,
      "outputs": [
        {
          "output_type": "execute_result",
          "data": {
            "text/plain": [
              "array([[16, 13],\n",
              "       [ 5,  1]])"
            ]
          },
          "metadata": {},
          "execution_count": 29
        }
      ]
    },
    {
      "cell_type": "code",
      "source": [
        ""
      ],
      "metadata": {
        "id": "Mhy8K-ycAYyj"
      },
      "execution_count": 29,
      "outputs": []
    },
    {
      "cell_type": "markdown",
      "source": [
        "## ResNet50"
      ],
      "metadata": {
        "id": "Hg8XYIqTbjLX"
      }
    },
    {
      "cell_type": "code",
      "source": [
        "from tensorflow.keras.applications.resnet50 import ResNet50\n",
        "from tensorflow.python.keras.models import Sequential\n",
        "from tensorflow.python.keras.layers import Dense\n",
        "\n",
        "\n",
        "base_model = ResNet50(include_top = False, input_shape=(128, 128, 3))\n",
        "\n",
        "model = tf.keras.models.Sequential()\n",
        "model.add(base_model)\n",
        "model.add(tf.keras.layers.Flatten())\n",
        "model.add(tf.keras.layers.Dropout(0.5))\n",
        "model.add(tf.keras.layers.Dense(1, activation='sigmoid'))\n",
        "\n",
        "\n",
        "\n",
        "model.layers[0].trainable = False\n",
        "\n",
        "model.compile(\n",
        "    loss='binary_crossentropy',\n",
        "    optimizer=tf.keras.optimizers.Adam(),\n",
        "    metrics=['accuracy']\n",
        ")\n",
        "\n",
        "model.summary()"
      ],
      "metadata": {
        "colab": {
          "base_uri": "https://localhost:8080/"
        },
        "id": "e53D8-LGblZa",
        "outputId": "fd87f7c6-e966-4ba3-80dd-062e4698164c"
      },
      "execution_count": 74,
      "outputs": [
        {
          "output_type": "stream",
          "name": "stdout",
          "text": [
            "Model: \"sequential_10\"\n",
            "_________________________________________________________________\n",
            " Layer (type)                Output Shape              Param #   \n",
            "=================================================================\n",
            " resnet50 (Functional)       (None, 4, 4, 2048)        23587712  \n",
            "                                                                 \n",
            " flatten_10 (Flatten)        (None, 32768)             0         \n",
            "                                                                 \n",
            " dropout_5 (Dropout)         (None, 32768)             0         \n",
            "                                                                 \n",
            " dense_10 (Dense)            (None, 1)                 32769     \n",
            "                                                                 \n",
            "=================================================================\n",
            "Total params: 23,620,481\n",
            "Trainable params: 32,769\n",
            "Non-trainable params: 23,587,712\n",
            "_________________________________________________________________\n"
          ]
        }
      ]
    },
    {
      "cell_type": "code",
      "source": [
        ""
      ],
      "metadata": {
        "id": "5bXjKJOZeZah"
      },
      "execution_count": null,
      "outputs": []
    }
  ]
}