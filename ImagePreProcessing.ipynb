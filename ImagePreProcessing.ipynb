{
 "cells": [
  {
   "cell_type": "code",
   "execution_count": 20,
   "metadata": {},
   "outputs": [],
   "source": [
    "import cv2\n",
    "import pandas as pd\n",
    "import numpy as np\n",
    "import sklearn\n",
    "import os\n",
    "from PIL import Image\n"
   ]
  },
  {
   "cell_type": "code",
   "execution_count": 18,
   "metadata": {},
   "outputs": [],
   "source": [
    "train_directory = r\"c:\\Users\\Arjun\\Documents\\GitHub\\siim-isic-melanoma-classification\\jpeg\\train\"\n",
    "test_directory = r\"c:\\Users\\Arjun\\Documents\\GitHub\\siim-isic-melanoma-classification\\jpeg\\test\"\n",
    "\n",
    "train_image_names = []\n",
    "for i in os.listdir(train_directory):\n",
    "    if i.endswith(\".jpg\"):\n",
    "      train_image_names.append(i)\n",
    "      continue\n",
    "    else:\n",
    "        continue\n",
    "\n",
    "\n",
    "test_image_names = []\n",
    "for i in os.listdir(test_directory):\n",
    "    if i.endswith(\".jpg\"):\n",
    "      test_image_names.append(i)\n",
    "      continue\n",
    "    else:\n",
    "        continue"
   ]
  },
  {
   "cell_type": "code",
   "execution_count": 41,
   "metadata": {},
   "outputs": [],
   "source": [
    "\n",
    "im = Image.open(test_directory + r'\\\\' + test_image_names[10])\n",
    "\n",
    "width, height = im.size\n",
    "\n",
    "new_dimensions = min(width,height)\n",
    "\n",
    "new_size = (512,512)\n",
    "a = (width - new_dimensions) //2 \n",
    "b = (height - new_dimensions) //2 \n",
    "c = (width + new_dimensions) //2 \n",
    "d = (height + new_dimensions) //2 \n",
    "\n",
    "im2 = im.crop((a,b,c,d))\n",
    "im2.show()\n",
    "im2 = im2.resize(new_size)\n",
    "im2.show()\n",
    "\n"
   ]
  },
  {
   "cell_type": "code",
   "execution_count": null,
   "metadata": {},
   "outputs": [],
   "source": []
  }
 ],
 "metadata": {
  "interpreter": {
   "hash": "63fd5069d213b44bf678585dea6b12cceca9941eaf7f819626cde1f2670de90d"
  },
  "kernelspec": {
   "display_name": "Python 3.9.1 64-bit",
   "language": "python",
   "name": "python3"
  },
  "language_info": {
   "codemirror_mode": {
    "name": "ipython",
    "version": 3
   },
   "file_extension": ".py",
   "mimetype": "text/x-python",
   "name": "python",
   "nbconvert_exporter": "python",
   "pygments_lexer": "ipython3",
   "version": "3.9.1"
  },
  "orig_nbformat": 4
 },
 "nbformat": 4,
 "nbformat_minor": 2
}
